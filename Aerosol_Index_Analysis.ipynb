{
  "nbformat": 4,
  "nbformat_minor": 0,
  "metadata": {
    "colab": {
      "name": "Aerosol Index Analysis.ipynb",
      "provenance": [],
      "authorship_tag": "ABX9TyMianiplcLGKGmcFtdA247o",
      "include_colab_link": true
    },
    "kernelspec": {
      "name": "python3",
      "display_name": "Python 3"
    }
  },
  "cells": [
    {
      "cell_type": "markdown",
      "metadata": {
        "id": "view-in-github",
        "colab_type": "text"
      },
      "source": [
        "<a href=\"https://colab.research.google.com/github/NM1729/Aerosol-Index-Analysis/blob/main/Aerosol_Index_Analysis.ipynb\" target=\"_parent\"><img src=\"https://colab.research.google.com/assets/colab-badge.svg\" alt=\"Open In Colab\"/></a>"
      ]
    },
    {
      "cell_type": "code",
      "metadata": {
        "id": "QmlsmQDKp7QS",
        "outputId": "6cb70243-bc5b-4698-cd19-d815d587be54",
        "colab": {
          "base_uri": "https://localhost:8080/"
        }
      },
      "source": [
        "from google.colab import drive\n",
        "drive.mount('/content/drive')"
      ],
      "execution_count": 76,
      "outputs": [
        {
          "output_type": "stream",
          "text": [
            "Mounted at /content/drive\n"
          ],
          "name": "stdout"
        }
      ]
    },
    {
      "cell_type": "code",
      "metadata": {
        "id": "TeYJDC0pqG0q",
        "outputId": "ef4621a1-e8a4-43be-8b97-c20d15c33667",
        "colab": {
          "base_uri": "https://localhost:8080/"
        }
      },
      "source": [
        "cd /content/drive/My Drive/'gee economics'/Economics/'Weekly '/clean_csv"
      ],
      "execution_count": 78,
      "outputs": [
        {
          "output_type": "stream",
          "text": [
            "/content/drive/.shortcut-targets-by-id/1Bz9b6FjScWepkSNBbJ6OIsHLgnxS3dcK/Economics/Weekly /clean_csv\n"
          ],
          "name": "stdout"
        }
      ]
    },
    {
      "cell_type": "code",
      "metadata": {
        "id": "FldSiEgBqaxv",
        "outputId": "63f8539e-db47-4959-f73c-67e2fc215985",
        "colab": {
          "base_uri": "https://localhost:8080/"
        }
      },
      "source": [
        "ls"
      ],
      "execution_count": 79,
      "outputs": [
        {
          "output_type": "stream",
          "text": [
            "ahmadabad_weekly.csv     chennai_weekly.csv            jaipur_weekly.csv\n",
            "bangalore_weekly.csv     delhi_weekly_cleaned_NMS.csv  kolkata_weekly.csv\n",
            "bangalore_weekly.gsheet  delhi_weekly.csv              mumbai_weekly.csv\n",
            "bhopal_weekly.csv        hyderabad_weekly.csv          pune_weekly.csv\n"
          ],
          "name": "stdout"
        }
      ]
    },
    {
      "cell_type": "code",
      "metadata": {
        "id": "k1A9KZmyeJ7m"
      },
      "source": [
        "import pandas as pd\n",
        "import numpy as np\n",
        "import matplotlib.pyplot as plt"
      ],
      "execution_count": 73,
      "outputs": []
    },
    {
      "cell_type": "code",
      "metadata": {
        "id": "hMW1JBACf1Dl",
        "outputId": "1a9a9f45-5a89-41dd-8564-12bccb95cbd1",
        "colab": {
          "base_uri": "https://localhost:8080/"
        }
      },
      "source": [
        "import os\n",
        "dic = {}\n",
        "for filename in os.listdir(os.getcwd()):\n",
        "    if filename[-4:] == '.csv':\n",
        "        name = filename[:-4]\n",
        "        dic[name] = pd.read_csv(filename)\n",
        "        if(len(dic[name].columns) == 4):\n",
        "            dic[name].drop(columns=\"Unnamed: 0\",inplace=True)\n",
        "        dic[name].columns = ['ward_no','date','mean']\n",
        "print(dic['delhi_weekly'])"
      ],
      "execution_count": 82,
      "outputs": [
        {
          "output_type": "stream",
          "text": [
            "      ward_no        date      mean\n",
            "0         150  2018-07-10 -0.417784\n",
            "1         176  2018-07-10 -0.491721\n",
            "2         129  2018-07-10 -0.396762\n",
            "3         173  2018-07-10 -0.438226\n",
            "4         140  2018-07-10 -0.220974\n",
            "...       ...         ...       ...\n",
            "34097      35  2020-10-06 -0.615338\n",
            "34098     219  2020-10-06 -0.619774\n",
            "34099      26  2020-10-06 -0.731513\n",
            "34100     187  2020-10-06 -0.737521\n",
            "34101     115  2020-10-06 -0.622233\n",
            "\n",
            "[34102 rows x 3 columns]\n"
          ],
          "name": "stdout"
        }
      ]
    },
    {
      "cell_type": "code",
      "metadata": {
        "id": "zQb58ezKkkWV"
      },
      "source": [
        "clean = []\n",
        "for city in dic:\n",
        "    if city == \"delhi_weekly_cleaned_NMS\":\n",
        "        continue\n",
        "    clean.append(dic[city])"
      ],
      "execution_count": null,
      "outputs": []
    },
    {
      "cell_type": "code",
      "metadata": {
        "id": "b-LqAbA5oemI"
      },
      "source": [
        "groups = []\n",
        "for city in clean:\n",
        "    group = city.groupby('date').agg(np.mean)\n",
        "    groups.append(group)"
      ],
      "execution_count": 100,
      "outputs": []
    },
    {
      "cell_type": "code",
      "metadata": {
        "id": "EXfSiD5UoksT",
        "outputId": "561a4e5d-4b7e-4139-87a1-0894be222d78",
        "colab": {
          "base_uri": "https://localhost:8080/"
        }
      },
      "source": [
        "print(groups[0])"
      ],
      "execution_count": 105,
      "outputs": [
        {
          "output_type": "stream",
          "text": [
            "            ward_no      mean\n",
            "date                         \n",
            "2018-07-10     99.5 -0.896302\n",
            "2018-07-17     99.5 -0.222558\n",
            "2018-07-24     99.5 -0.378929\n",
            "2018-07-31     99.5 -0.000837\n",
            "2018-08-07     99.5 -0.537708\n",
            "...             ...       ...\n",
            "2020-09-08     99.5 -1.450213\n",
            "2020-09-15     99.5 -1.490252\n",
            "2020-09-22     99.5 -1.380333\n",
            "2020-09-29     99.5 -1.359563\n",
            "2020-10-06     99.5 -1.431618\n",
            "\n",
            "[118 rows x 2 columns]\n"
          ],
          "name": "stdout"
        }
      ]
    },
    {
      "cell_type": "code",
      "metadata": {
        "id": "cu_UU5u4zZJj"
      },
      "source": [
        ""
      ],
      "execution_count": null,
      "outputs": []
    }
  ]
}